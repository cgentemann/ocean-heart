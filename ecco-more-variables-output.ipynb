{
 "cells": [
  {
   "cell_type": "markdown",
   "id": "e56cb11a-8308-418b-8a3e-4a57a16eb573",
   "metadata": {},
   "source": [
    "['Eta',\n",
    " 'KPPhbl',\n",
    " 'oceFWflx',\n",
    " 'oceQnet',\n",
    " 'oceQsw',\n",
    " 'oceSflux',\n",
    " 'oceTAUX oceTAUY',\n",
    " 'PhiBot',\n",
    " 'Salt',\n",
    " 'SIarea',\n",
    " 'SIheff',\n",
    " 'SIhsalt',\n",
    " 'SIhsnow',\n",
    " 'SIuice SIvice',\n",
    " 'Theta',\n",
    " 'U V W']"
   ]
  },
  {
   "cell_type": "code",
   "execution_count": 1,
   "id": "ca04664c-bf61-45ba-84d7-f404d2779a71",
   "metadata": {},
   "outputs": [],
   "source": [
    "import numpy as np\n",
    "import xarray as xr\n",
    "import xmitgcm.llcreader as llcreader\n",
    "%matplotlib inline\n",
    "import matplotlib.pyplot as plt\n",
    "import warnings\n",
    "warnings.filterwarnings('ignore')\n",
    "\n",
    "#3D plot\n",
    "from mpl_toolkits.mplot3d import Axes3D\n",
    "plt.rcParams['figure.figsize'] = (10,10)"
   ]
  },
  {
   "cell_type": "code",
   "execution_count": 2,
   "id": "4933503f-e792-4e00-a2a1-823937f87f04",
   "metadata": {},
   "outputs": [],
   "source": [
    "## read in 3D data from public portal (you don't have to download!)\n",
    "model = llcreader.ECCOPortalLLC2160Model()\n",
    "ds = model.get_dataset(varnames=['Salt'], type='latlon')\n",
    "subset2 = ds.isel(time=-1,j=slice(4550,4750),i=slice(7550,7800),k=slice(0,90))\n",
    "array2 = xr.DataArray(subset2.Salt.data,dims=['depth','lat','lon'],coords={'depth':subset2.Z.data,'lat':subset2.YC[:,0].data,'lon':subset2.XC[0,:].data})\n",
    "array2 = array2.load()"
   ]
  },
  {
   "cell_type": "code",
   "execution_count": 3,
   "id": "3f62e17e-8883-4aab-a8fe-3f129b4719f7",
   "metadata": {},
   "outputs": [],
   "source": [
    "down_data = array2.sel(lat=25.6,lon= -79.48,method='nearest')\n",
    "down_data[\"depth\"] = down_data[\"depth\"].astype(np.float32) #convert depth to float32\n",
    "up_data = array2.sel(lat=25.6,lon=-79.81,method='nearest')\n",
    "up_data[\"depth\"] = up_data[\"depth\"].astype(np.float32) #convert depth to float32\n",
    "\n",
    "i1=0; i2=48;\n",
    "tem = down_data[i1:i2]\n",
    "depth_new=np.linspace(tem.depth[0].data,tem.depth[-1].data,5400)\n",
    "down_data2 = tem.interp(depth=depth_new)\n",
    "down_lowest = down_data2[-1].data #save lowest value\n",
    "\n",
    "i1=0; i2=47;\n",
    "tem = up_data[i1:i2]\n",
    "depth_new=np.linspace(tem.depth[0].data,tem.depth[-1].data,1699)\n",
    "up_data2 = tem.interp(depth=depth_new)\n",
    "up_lowest = up_data2[-1].data #save lowest value\n",
    "\n",
    "i1=0; i2=101;\n",
    "tem = down_data2[i1:i2].copy()\n",
    "depth_new=np.linspace(down_data2.depth[-1].data,up_data2.depth[-1].data,101)\n",
    "temp_new=np.linspace(down_lowest,up_lowest.data,101)\n",
    "middle_data = tem\n",
    "middle_data['depth']=depth_new #set depth all to deepest point\n",
    "middle_data[:]=temp_new #set temp to lowest temp"
   ]
  },
  {
   "cell_type": "code",
   "execution_count": 4,
   "id": "1fdf3c5d-33dd-44c6-be53-08dd8e810e76",
   "metadata": {},
   "outputs": [],
   "source": [
    "data_bottom_pause = xr.concat(\n",
    "    [down_data2,middle_data,up_data2.isel(depth=slice(None, None, -1))],\n",
    "    dim='depth')\n",
    "df = data_bottom_pause.to_dataframe()\n",
    "df = df.rename(columns={'getitem-9da8987598912d94d3ef2424c3afd049':'Salinity'})\n",
    "df['depth']=df.index\n",
    "#df['timestep'] = np.arange(7200)\n",
    "df.index=np.arange(7200)\n",
    "df.index.name = 'timestep'\n",
    "#df = df[['timestep', 'depth','Theta', 'lat', 'lon']]\n",
    "df = df[['depth','Salinity', 'lat', 'lon']]\n",
    "#del df['lat']\n",
    "#del df['lon']\n",
    "#save data\n",
    "df.to_csv(\"./data/data_bottom_pause_Salt.csv\")\n",
    "del df['lat']\n",
    "del df['lon']\n",
    "#save data\n",
    "df.to_csv(\"./data/data_bottom_pause_Salt_nolatlon.csv\")\n",
    "df_save = df"
   ]
  },
  {
   "cell_type": "code",
   "execution_count": 5,
   "id": "d4d5d25d-2a2d-46b2-adb5-2e0b88f654e1",
   "metadata": {},
   "outputs": [
    {
     "data": {
      "text/plain": [
       "Text(4000, 36.1, 'Pause')"
      ]
     },
     "execution_count": 5,
     "metadata": {},
     "output_type": "execute_result"
    },
    {
     "data": {
      "image/png": "[encoded data removed]",
      "text/plain": [
       "<Figure size 500x300 with 1 Axes>"
      ]
     },
     "metadata": {},
     "output_type": "display_data"
    }
   ],
   "source": [
    "plt.figure(figsize=(5, 3))\n",
    "plt.plot(np.arange(0,5400),down_data2.data,color='blue')\n",
    "tem = middle_data\n",
    "plt.plot(np.arange(0,101)+5400,tem,color='black')\n",
    "tem = up_data2.isel(depth=slice(None, None, -1))\n",
    "plt.plot(np.arange(0,1699)+5501,tem,color='green')\n",
    "plt.ylabel('Salt')\n",
    "plt.xlabel('Index')\n",
    "plt.text(4000, 36.5, \"Down\", color=\"blue\", fontsize=12)\n",
    "plt.text(4000, 36.3, \"Up\", color=\"green\", fontsize=12)\n",
    "plt.text(4000, 36.1, \"Pause\", color=\"black\", fontsize=12)"
   ]
  },
  {
   "cell_type": "markdown",
   "id": "f6aefa93-297b-443a-8a78-2c6f2e25b06d",
   "metadata": {},
   "source": [
    "# now do temperature (theta)"
   ]
  },
  {
   "cell_type": "code",
   "execution_count": null,
   "id": "9d453719-8e43-4ec3-9745-18a83c1accfc",
   "metadata": {},
   "outputs": [],
   "source": [
    "ds = model.get_dataset(varnames=['Theta'], type='latlon')\n",
    "subset2 = ds.isel(time=-1,j=slice(4550,4750),i=slice(7550,7800),k=slice(0,90))\n",
    "array2 = xr.DataArray(subset2.Theta.data,dims=['depth','lat','lon'],coords={'depth':subset2.Z.data,'lat':subset2.YC[:,0].data,'lon':subset2.XC[0,:].data})\n",
    "array2 = array2.load()"
   ]
  },
  {
   "cell_type": "code",
   "execution_count": null,
   "id": "7b2ab0f4-9f00-47a1-b109-05e2845cd318",
   "metadata": {},
   "outputs": [],
   "source": [
    "down_data = array2.sel(lat=25.6,lon= -79.48,method='nearest')\n",
    "down_data[\"depth\"] = down_data[\"depth\"].astype(np.float32) #convert depth to float32\n",
    "up_data = array2.sel(lat=25.6,lon=-79.81,method='nearest')\n",
    "up_data[\"depth\"] = up_data[\"depth\"].astype(np.float32) #convert depth to float32\n",
    "\n",
    "i1=0; i2=48;\n",
    "tem = down_data[i1:i2]\n",
    "depth_new=np.linspace(tem.depth[0].data,tem.depth[-1].data,5400)\n",
    "down_data2 = tem.interp(depth=depth_new)\n",
    "down_lowest = down_data2[-1].data #save lowest value\n",
    "\n",
    "i1=0; i2=47;\n",
    "tem = up_data[i1:i2]\n",
    "depth_new=np.linspace(tem.depth[0].data,tem.depth[-1].data,1699)\n",
    "up_data2 = tem.interp(depth=depth_new)\n",
    "up_lowest = up_data2[-1].data #save lowest value\n",
    "\n",
    "i1=0; i2=101;\n",
    "tem = down_data2[i1:i2].copy()\n",
    "depth_new=np.linspace(down_data2.depth[-1].data,up_data2.depth[-1].data,101)\n",
    "temp_new=np.linspace(down_lowest,up_lowest.data,101)\n",
    "middle_data = tem\n",
    "middle_data['depth']=depth_new #set depth all to deepest point\n",
    "middle_data[:]=temp_new #set temp to lowest temp"
   ]
  },
  {
   "cell_type": "code",
   "execution_count": null,
   "id": "e49ad103-7660-4975-9507-494d826424a7",
   "metadata": {},
   "outputs": [],
   "source": [
    "data_bottom_pause = xr.concat(\n",
    "    [down_data2,middle_data,up_data2.isel(depth=slice(None, None, -1))],\n",
    "    dim='depth')\n",
    "df = data_bottom_pause.to_dataframe()\n",
    "df = df.rename(columns={'getitem-be70884a9fcd6b8bb0d4bffa99fceec4':'Theta'})\n",
    "df['depth']=df.index\n",
    "#df['timestep'] = np.arange(7200)\n",
    "df.index=np.arange(7200)\n",
    "df.index.name = 'timestep'\n",
    "#df = df[['timestep', 'depth','Theta', 'lat', 'lon']]\n",
    "df = df[['depth','Theta', 'lat', 'lon']]\n",
    "#save data\n",
    "df.to_csv(\"./data/data_bottom_pause_Theta.csv\")\n",
    "df"
   ]
  },
  {
   "cell_type": "code",
   "execution_count": null,
   "id": "8e7427b1-1116-4481-8235-7a437d847a58",
   "metadata": {},
   "outputs": [],
   "source": [
    "data_bottom_pause = xr.concat(\n",
    "    [down_data2,middle_data,up_data2.isel(depth=slice(None, None, -1))],\n",
    "    dim='depth')\n",
    "df = data_bottom_pause.to_dataframe()\n",
    "df = df.rename(columns={'getitem-be70884a9fcd6b8bb0d4bffa99fceec4':'Theta'})\n",
    "df['depth']=df.index\n",
    "#df['timestep'] = np.arange(7200)\n",
    "df.index=np.arange(7200)\n",
    "df.index.name = 'timestep'\n",
    "#df = df[['timestep', 'depth','Theta', 'lat', 'lon']]\n",
    "df = df[['depth','Theta', 'lat', 'lon']]\n",
    "del df['lat']\n",
    "del df['lon']\n",
    "#save data\n",
    "df.to_csv(\"./data/data_bottom_pause_Theta_nolatlon.csv\")\n",
    "df"
   ]
  },
  {
   "cell_type": "code",
   "execution_count": null,
   "id": "038e56aa-5dbc-4ee1-90bf-7c3c184e91fc",
   "metadata": {},
   "outputs": [],
   "source": [
    "plt.figure(figsize=(5, 3))\n",
    "plt.plot(np.arange(0,5400),down_data2.data,color='blue')\n",
    "tem = middle_data\n",
    "plt.plot(np.arange(0,101)+5400,tem,color='black')\n",
    "tem = up_data2.isel(depth=slice(None, None, -1))\n",
    "plt.plot(np.arange(0,1699)+5501,tem,color='green')\n",
    "plt.ylabel('Theta')\n",
    "plt.xlabel('Index')\n",
    "plt.text(4000, 25, \"Down\", color=\"blue\", fontsize=12)\n",
    "plt.text(4000, 23, \"Up\", color=\"green\", fontsize=12)\n",
    "plt.text(4000, 21, \"Pause\", color=\"black\", fontsize=12)"
   ]
  },
  {
   "cell_type": "code",
   "execution_count": null,
   "id": "da13e3a5-1de4-47be-a1e7-f268260ffac0",
   "metadata": {},
   "outputs": [],
   "source": [
    "df_save['Theta'] = df['Theta']\n",
    "df.to_csv(\"./data/data_bottom_pause_ThetaSalt_nolatlon.csv\")"
   ]
  },
  {
   "cell_type": "code",
   "execution_count": null,
   "id": "c222a80e-113d-44ea-847a-e52b05012f0e",
   "metadata": {},
   "outputs": [],
   "source": []
  }
 ],
 "metadata": {
  "kernelspec": {
   "display_name": "Python 3 (ipykernel)",
   "language": "python",
   "name": "python3"
  },
  "language_info": {
   "codemirror_mode": {
    "name": "ipython",
    "version": 3
   },
   "file_extension": ".py",
   "mimetype": "text/x-python",
   "name": "python",
   "nbconvert_exporter": "python",
   "pygments_lexer": "ipython3",
   "version": "3.12.5"
  }
 },
 "nbformat": 4,
 "nbformat_minor": 5
}
