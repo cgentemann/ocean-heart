{
 "cells": [
  {
   "cell_type": "markdown",
   "id": "280195e0-1dda-45cf-bd89-1842964d50dc",
   "metadata": {},
   "source": [
    "# Creating timeseries of the GOES data for 8 speakers\n",
    "\n",
    "- 8 channels (need 8 timeseries)\n",
    "- 12 minute piece, GOES samples every 5-minutes\n",
    "\n",
    "The artist wanted a viewer to feel like weather was moving through the room. \n",
    "\n",
    "This means we must think about time and space.\n",
    "\n",
    "Space:\n",
    "So, the 8 speakers should correspond to 8 different locations around the viewer. The spatial scale of the data variablity will need to be explored so we can determine the right distance these locations should be. Maybe if they are only 1 km apart, there isn't enough of a 'difference' for the sound to feel immersive.  But if the locations are too far apart, then they won't be correlated to eachother and may just sound like 8 unconnected sounds.\n",
    "\n",
    "Time: \n",
    "GOES CONUS data has 5-minute sampling. \n",
    "The piece is 12 minutes long - so if we went with realtime data, we would have 2 data points that could be interpolated together,\n",
    "but basically two gradient tones during 12 minutes is not very dynamic, \n",
    "but that might be okay? The other issues is that I think this surface data is meant to be dominate during only the first 3 minutes,\n",
    "so maybe we are only really looking at 3 minutes of gradients. If that is the case, in order to get a sense of weather, \n",
    "it might be necessary to create a compressed timeseries of data over the last hour or so.\n",
    "\n",
    "GOES:\n",
    "\n",
    "GOES has full disk, CONUS, mesoscale options as well as many different products.\n",
    "I'm using CONUS below as it has high spatial resolution, 5-minute sampling.\n",
    "\n",
    "## Steps in code below:\n",
    "- The code looks at two different GOES datasets. We don't really want one with cloud masks (missing data). \n",
    "- Georeference the coordinate system so we can look up data around a latitude and longitude\n",
    "- Calculate 8 points near a reference location (Miami)\n",
    "- Create timeseries of data at those points "
   ]
  },
  {
   "cell_type": "code",
   "execution_count": 1,
   "id": "c1ac0e35-0ac3-4544-aa9b-ab69969a458f",
   "metadata": {},
   "outputs": [
    {
     "name": "stderr",
     "output_type": "stream",
     "text": [
      "C:\\Users\\clwhit13\\AppData\\Local\\miniconda3\\envs\\heart\\Lib\\site-packages\\goes2go\\data.py:665: FutureWarning: 'H' is deprecated and will be removed in a future version. Please use 'h' instead of 'H'.\n",
      "  within=pd.to_timedelta(config[\"nearesttime\"].get(\"within\", \"1h\")),\n",
      "C:\\Users\\clwhit13\\AppData\\Local\\miniconda3\\envs\\heart\\Lib\\site-packages\\goes2go\\NEW.py:188: FutureWarning: 'H' is deprecated and will be removed in a future version. Please use 'h' instead of 'H'.\n",
      "  within=pd.to_timedelta(config[\"nearesttime\"].get(\"within\", \"1h\")),\n"
     ]
    }
   ],
   "source": [
    "from goes2go import GOES\n",
    "import matplotlib.pyplot as plt\n",
    "from datetime import datetime, timedelta\n",
    "import warnings\n",
    "import numpy as np\n",
    "warnings.filterwarnings('ignore')\n",
    "import cartopy.crs as ccrs\n",
    "import cartopy.feature as cfeature\n",
    "import pandas as pd\n",
    "import s3fs\n",
    "import xarray as xr\n",
    "import os\n",
    "\n",
    "#list of GOES products https://github.com/blaylockbk/goes2go/blob/main/goes2go/product_table.txt\n",
    "\n",
    "# Calculate latitude and longitude from GOES ABI fixed grid projection data\n",
    "#GOES ABI fixed grid projection is a map projection relative to the GOES satellite  \n",
    "#Units: latitude in °N (°S < 0), longitude in °E (°W < 0)  \n",
    "#See GOES-R Product User Guide (PUG) Volume 5 (L2 products) Section 4.2.8 for details & example of calculations  \n",
    "#\"file_id\" is an ABI L1b or L2 .nc file opened using the netCDF4 library  \n",
    "#code from https://www.star.nesdis.noaa.gov/atmospheric-composition-training/python_abi_lat_lon.php  \n",
    "#Acknowledgement:  NOAA/NESDIS/STAR Aerosols and Atmospheric Composition Science Team  \n",
    "#Their code is written for numpy arrays not xarray, so I updated it to work with xarray datasets  \n",
    "\n",
    "# Target latitude and longitude MIAMI\n",
    "target_lat = 25.76  # Example: Latitude of Miami\n",
    "target_lon = -80.19  # Example: Longitude of Miami\n",
    "\n",
    "#read the dataset so we know what we have already ready or not\n",
    "gfile = xr.open_dataset(\"./data/goes_data_time.nc\").load()\n",
    "gfile.close()\n",
    "\n",
    "def calculate_degrees(file_id):\n",
    "    # Read in GOES ABI fixed grid projection variables and constants\n",
    "    x_coordinate_1d = file_id.variables['x'][:]  # E/W scanning angle in radians\n",
    "    y_coordinate_1d = file_id.variables['y'][:]  # N/S elevation angle in radians\n",
    "    projection_info = file_id.variables['goes_imager_projection']\n",
    "    lon_origin = projection_info.attrs.get('longitude_of_projection_origin')\n",
    "    H = projection_info.attrs.get('perspective_point_height')+projection_info.attrs.get('semi_major_axis')\n",
    "    r_eq = projection_info.attrs.get('semi_major_axis')\n",
    "    r_pol = projection_info.attrs.get('semi_minor_axis')\n",
    "    \n",
    "    # Create 2D coordinate matrices from 1D coordinate vectors\n",
    "    x_coordinate_2d, y_coordinate_2d = np.meshgrid(x_coordinate_1d, y_coordinate_1d)\n",
    "    \n",
    "    # Equations to calculate latitude and longitude\n",
    "    lambda_0 = (lon_origin*np.pi)/180.0  \n",
    "    a_var = np.power(np.sin(x_coordinate_2d),2.0) + (np.power(np.cos(x_coordinate_2d),2.0)*(np.power(np.cos(y_coordinate_2d),2.0)+(((r_eq*r_eq)/(r_pol*r_pol))*np.power(np.sin(y_coordinate_2d),2.0))))\n",
    "    b_var = -2.0*H*np.cos(x_coordinate_2d)*np.cos(y_coordinate_2d)\n",
    "    c_var = (H**2.0)-(r_eq**2.0)\n",
    "    r_s = (-1.0*b_var - np.sqrt((b_var**2)-(4.0*a_var*c_var)))/(2.0*a_var)\n",
    "    s_x = r_s*np.cos(x_coordinate_2d)*np.cos(y_coordinate_2d)\n",
    "    s_y = - r_s*np.sin(x_coordinate_2d)\n",
    "    s_z = r_s*np.cos(x_coordinate_2d)*np.sin(y_coordinate_2d)\n",
    "    \n",
    "    # Ignore numpy errors for sqrt of negative number; occurs for GOES-16 ABI CONUS sector data\n",
    "    np.seterr(all='ignore')\n",
    "    \n",
    "    abi_lat = (180.0/np.pi)*(np.arctan(((r_eq*r_eq)/(r_pol*r_pol))*((s_z/np.sqrt(((H-s_x)*(H-s_x))+(s_y*s_y))))))\n",
    "    abi_lon = (lambda_0 - np.arctan(s_y/(H-s_x)))*(180.0/np.pi)\n",
    "    \n",
    "    return abi_lat, abi_lon\n",
    "\n",
    "def forward_fill_2d(arr):\n",
    "    # Loop through each column\n",
    "    for i in range(arr.shape[1]):\n",
    "        mask = np.isnan(arr[:, i])\n",
    "        # Forward fill NaN values\n",
    "        arr[mask, i] = np.interp(np.flatnonzero(mask), np.flatnonzero(~mask), arr[~mask, i])\n",
    "    return arr\n",
    "\n",
    "def find_nearest_indices(lat_arr, lon_arr, target_lat, target_lon):\n",
    "    # Find the nearest latitude index\n",
    "    lat_idx = (np.abs(lat_arr - target_lat)).argmin()\n",
    "    # Find the nearest longitude index\n",
    "    lon_idx = (np.abs(lon_arr - target_lon)).argmin()\n",
    "    return lat_idx, lon_idx\n",
    "\n",
    "def calculate_points(istep,lon_idx,lat_idx):\n",
    "    #how big do we want to have the box?\n",
    "    #istep is how many grid points away from the center that we want to go   \n",
    "    # List of points you want to subset around point x\n",
    "    #   *  *  *\n",
    "    #   *  x  *\n",
    "    #   *  *  *\n",
    "    #north_point = [lat_idx+istep,lon_idx]\n",
    "    #east_point = [lat_idx,lon_idx+istep]\n",
    "    #south_point = [lat_idx-istep,lon_idx]\n",
    "    #west_point = [lat_idx,lon_idx-istep]\n",
    "    #northeast_point = [lat_idx+istep,lon_idx+istep]\n",
    "    #northwest_point = [lat_idx+istep,lon_idx-istep]\n",
    "    #southeast_point = [lat_idx-istep,lon_idx+istep]\n",
    "    #southwest_point = [lat_idx-istep,lon_idx-istep]\n",
    "    points = [\n",
    "        {\"i\": int(lon_idx)+istep, \"j\": int(lat_idx)+istep, \"name\": 'NE'},\n",
    "        {\"i\": int(lon_idx)+istep, \"j\": int(lat_idx), \"name\": 'East'},\n",
    "        {\"i\": int(lon_idx)+istep, \"j\": int(lat_idx)-istep, \"name\": 'SW'},\n",
    "        {\"i\": int(lon_idx), \"j\": int(lat_idx)+istep, \"name\": 'N'},\n",
    "        {\"i\": int(lon_idx), \"j\": int(lat_idx)-istep, \"name\": 'S'},\n",
    "        {\"i\": int(lon_idx)-istep, \"j\": int(lat_idx)+istep, \"name\": 'NW'},\n",
    "        {\"i\": int(lon_idx)-istep, \"j\": int(lat_idx), \"name\": 'W'},\n",
    "        {\"i\": int(lon_idx)-istep, \"j\": int(lat_idx)-istep, \"name\": 'SW'},\n",
    "    ]\n",
    "    return points\n",
    "\n",
    "def get_start_end_time(fname):\n",
    "    #goes filenames structure https://geonetcast.wordpress.com/2017/04/27/goes-16-file-naming-convention/\n",
    "    #use filename to find start/end times for data\n",
    "    tem = str(fname).split('/')\n",
    "    tem2,i = tem[5],25\n",
    "    dt_start = datetime.strptime(tem2[i:i+13], '%Y%j%H%M%S')\n",
    "    tem2,i = tem[5],41\n",
    "    dt_end = datetime.strptime(tem2[i:i+13], '%Y%j%H%M%S')\n",
    "    return dt_start,dt_end\n",
    "\n",
    "def already_read(fname,gfile):\n",
    "    start_time,end_time = get_start_end_time(fname)\n",
    "    isum = gfile.read_value.loc[start_time:end_time].sum().data\n",
    "    if isum>0:\n",
    "        return True\n",
    "    else:\n",
    "        return False\n",
    "\n",
    "def set_already_read(fname,gfile):\n",
    "    start_time,end_time = get_start_end_time(fname)\n",
    "    gfile.read_value.loc[start_time:end_time] = 1\n",
    "    gfile.to_netcdf(\"./data/goes_data_time.nc\")\n",
    "    return gfile\n"
   ]
  },
  {
   "cell_type": "markdown",
   "id": "75486994-e496-4ad6-9904-2581c223ad1a",
   "metadata": {},
   "source": [
    "# now we have some data points, we need to create a timeseries of data\n",
    "\n",
    "goes2go downloads the data before reading it  \n",
    "since we are looking at timeseries and there are like 288 files each day (5 min data)  \n",
    "i don't want to download all that data  \n",
    "so i'm trying to figure out if I can lazy load it  \n"
   ]
  },
  {
   "cell_type": "code",
   "execution_count": 6,
   "id": "6de582dd-e9e9-4fbc-8022-c808eac69a3e",
   "metadata": {},
   "outputs": [
    {
     "data": {
      "text/plain": [
       "'noaa-goes16/ABI-L2-MCMIPC/2023/340/00/OR_ABI-L2-MCMIPC-M6_G16_s20233400001173_e20233400003546_c20233400004056.nc'"
      ]
     },
     "execution_count": 6,
     "metadata": {},
     "output_type": "execute_result"
    }
   ],
   "source": [
    "# connect to S3 bucket with data\n",
    "df = pd.read_csv('./../goes_filenames_test.csv')\n",
    "df.file[0]\n",
    "#fs = s3fs.S3FileSystem(anon=True) #connect to s3 bucket!\n",
    "#file_location=df.file\n",
    "#file_ob = [fs.open('s3://'+file) for file in file_location]        #open connection to files\n",
    "#print(file_ob[0])"
   ]
  },
  {
   "cell_type": "code",
   "execution_count": null,
   "id": "635c43e9-2541-41d1-a716-37173ab8710b",
   "metadata": {},
   "outputs": [],
   "source": [
    "for i in range(0,len(file_ob)):\n",
    "    fname = file_ob[i]\n",
    "#    if already_read(fname,gfile):\n",
    "#        continue    \n",
    "    ds = xr.open_dataset(file_ob[i]) #note file is super messed up formatting\n",
    "    #ds2 = ds#.isel(time=0)\n",
    "    #calculate lat/lon\n",
    "    abi_lat, abi_lon = calculate_degrees(ds)\n",
    "    abi_lat = forward_fill_2d(abi_lat.copy())\n",
    "    abi_lon = forward_fill_2d(abi_lon.copy())\n",
    "    #note this isn't going to be perfect because used 1d so run one time, then again with closer values\n",
    "    # Find nearest indices\n",
    "    lat_idx, lon_idx = find_nearest_indices(abi_lat[:,0], abi_lon[0,:], target_lat, target_lon)\n",
    "    lat_idx, lon_idx = find_nearest_indices(abi_lat[:,lon_idx], abi_lon[lat_idx,:], target_lat, target_lon)\n",
    "    stime,etime = get_start_end_time(fname)\n",
    "    ds_tem = ds.isel(y=slice(lat_idx-25,lat_idx+25),x=slice(lon_idx-25,lon_idx+25)).CMI_C10.load()\n",
    "    for istep in range(1,20):\n",
    "        points = calculate_points(istep,25,25) #lon_idx,lat_idx)\n",
    "        point_data=ds_tem.isel(y=points[0].get('j'), x=points[0].get('i')) #, method=\"nearest\")\n",
    "        for p in range(len(points)):\n",
    "            if p>0:\n",
    "                tem=ds_tem.isel(y=points[p].get('j'), x=points[p].get('i')) #, method=\"nearest\")\n",
    "                point_data = xr.concat([point_data, tem], dim=\"points_index\")\n",
    "        if istep>1:\n",
    "            step_data = xr.concat([step_data,point_data], dim=\"step\")\n",
    "        else:\n",
    "            step_data = point_data\n",
    "    if i>1:\n",
    "        all_data = xr.concat([all_data,step_data], dim=\"time\")\n",
    "    else:\n",
    "        all_data = step_data\n",
    "    all_data.to_netcdf(\".\\..\\goes_timeseries_dec2023.nc\")\n",
    "    gfile = set_already_read(fname,gfile)\n",
    "    print(i)"
   ]
  },
  {
   "cell_type": "code",
   "execution_count": null,
   "id": "a58c9892-4e96-41c9-8f4d-446f0fbc416b",
   "metadata": {},
   "outputs": [],
   "source": [
    "file_ob[0]"
   ]
  },
  {
   "cell_type": "code",
   "execution_count": null,
   "id": "3f11dae0-c5bf-4574-a351-0cd7394f7fd0",
   "metadata": {},
   "outputs": [],
   "source": [
    "#ds.isel(y=points[0].get('j'), x=points[0].get('i')) #, method=\"nearest\")\n",
    "ds_tem = ds.isel(y=slice(lat_idx-25,lat_idx+25),x=slice(lon_idx-25,lon_idx+25)).CMI_C10.load()\n",
    "#print(lat_idx, lon_idx)\n",
    "#print(tem\n",
    "i=0\n",
    "if i==0:\n",
    "    #step_data=ds_tem.isel(y=points[0].get('j'), x=points[0].get('i')) #, method=\"nearest\")\n",
    "    for istep in range(1,20):\n",
    "        points = calculate_points(istep,25,25) #lon_idx,lat_idx)\n",
    "        point_data=ds_tem.isel(y=points[0].get('j'), x=points[0].get('i')) #, method=\"nearest\")\n",
    "        for p in range(len(points)):\n",
    "            if p>0:\n",
    "                tem=ds_tem.isel(y=points[p].get('j'), x=points[p].get('i')) #, method=\"nearest\")\n",
    "                point_data = xr.concat([point_data, tem], dim=\"points_index\")\n",
    "        if istep>1:\n",
    "            step_data = xr.concat([step_data,point_data], dim=\"step\")\n",
    "        else:\n",
    "            step_data = point_data\n",
    "        #subset=combined_data #.load() #now load the little baby dataset\n",
    "        #save_data = xr.concat([save_data, combined_data], dim=\"step\")\n",
    "#        save_data.sel(time=np.datetime64(stime),method='nearest',step=istep)[\"CMI_C10\"]=subset.data\n",
    "        #print(stime,istep,subset,save_data.sel(time=np.datetime64(stime),method='nearest',step=istep)[\"CMI_C10\"])\n"
   ]
  },
  {
   "cell_type": "code",
   "execution_count": null,
   "id": "8c409153-7acf-4059-b9df-b598d874f216",
   "metadata": {},
   "outputs": [],
   "source": [
    "step_data"
   ]
  },
  {
   "cell_type": "code",
   "execution_count": null,
   "id": "22e4340f-91e7-413e-9dde-afe1180c989e",
   "metadata": {},
   "outputs": [],
   "source": [
    "print(subset.data)\n",
    "\n",
    "save_data = subset\n",
    "save_data = xr.concat([save_data,\n",
    "ds_concat = xr.concat([save_data], dim='time')\n",
    "\n",
    "\n",
    "save_data.sel(time=np.datetime64(stime),method='nearest',step=0)['CMI_C10']=subset\n",
    "print(save_data.sel(time=np.datetime64(stime),method='nearest',step=0)[\"CMI_C10\"].data)\n",
    "#save_data"
   ]
  },
  {
   "cell_type": "code",
   "execution_count": null,
   "id": "b16ea22e-d976-4d7a-b487-b8bba53b71b6",
   "metadata": {},
   "outputs": [],
   "source": [
    "print(save_data.CMI_C10.sel(time=np.datetime64(stime),method='nearest',step=0).data)\n",
    "print(np.datetime64(stime))\n",
    "#save_data.time[0:40]"
   ]
  },
  {
   "cell_type": "code",
   "execution_count": null,
   "id": "f03fed66-736c-4e4e-8bbc-299d0daf7cfc",
   "metadata": {},
   "outputs": [],
   "source": [
    "    for istep in range(1,20):\n",
    "        points = calculate_points(istep,lon_idx,lat_idx)\n",
    "        # Subsetting the dataset to the points\n",
    "        combined_data=ds.isel(y=points[0].get('j'), x=points[0].get('i')) #, method=\"nearest\")\n",
    "        for p in range(len(points)):\n",
    "            if p>0:\n",
    "                #print(points[p].get('j'),points[p].get('i'))\n",
    "                tem=ds.isel(y=points[p].get('j'), x=points[p].get('i')) #, method=\"nearest\")\n",
    "                combined_data = xr.concat([combined_data, tem], dim=\"points_index\")\n",
    "        subset=combined_data.CMI_C10.load() #now load the little baby dataset\n",
    "    stime,etime = get_start_end_time(fname)\n",
    "    save_data.sel(time=np.datetime64(stime),method='nearest')[\"CMI_10\"]=subset\n",
    "    save_data.to_netcdf(\".\\..\\goes_timeseries4.nc\")\n",
    "    gfile = set_already_read(fname,gfile)\n",
    "    print(i)"
   ]
  },
  {
   "cell_type": "code",
   "execution_count": null,
   "id": "88b627c1-ab4f-4f35-9f5a-ff4f835a60cc",
   "metadata": {},
   "outputs": [],
   "source": [
    "        if istep>1:\n",
    "            subset_step = xr.concat([subset_step,subset],dim='step')\n",
    "        else:\n",
    "            subset_step = subset\n",
    "    if i>1:\n",
    "        subset_time = xr.concat([subset_time,subset_step],dim='t')\n",
    "    else:\n",
    "        subset_time = subset\n",
    "    subset_time.to_netcdf(\".\\data\\goes_timeseries.nc\")\n",
    "    gfile = set_already_read(fname,gfile)\n",
    "    print('done :',i)\n"
   ]
  },
  {
   "cell_type": "code",
   "execution_count": null,
   "id": "a3c1c7db-e823-460c-88ca-d7db1e2501d8",
   "metadata": {},
   "outputs": [],
   "source": [
    "save_data"
   ]
  },
  {
   "cell_type": "code",
   "execution_count": null,
   "id": "5d5c0fac-5d6e-4967-87b1-c6d9a5bdb379",
   "metadata": {},
   "outputs": [],
   "source": []
  },
  {
   "cell_type": "code",
   "execution_count": null,
   "id": "e98a781b-f9d3-4ea5-ab6f-355675e2f070",
   "metadata": {},
   "outputs": [],
   "source": [
    "mylist"
   ]
  },
  {
   "cell_type": "code",
   "execution_count": null,
   "id": "8cc47efc-e04a-4e28-91f6-f2075215f9ff",
   "metadata": {},
   "outputs": [],
   "source": []
  },
  {
   "cell_type": "code",
   "execution_count": null,
   "id": "3cb80a90-e27f-4a2b-88dc-a6815952e6cb",
   "metadata": {},
   "outputs": [],
   "source": [
    "  "
   ]
  },
  {
   "cell_type": "code",
   "execution_count": null,
   "id": "b421addc-03de-42d4-a4c1-577d374c0ee9",
   "metadata": {},
   "outputs": [],
   "source": []
  },
  {
   "cell_type": "code",
   "execution_count": null,
   "id": "5821fdc0-580e-4f82-b9ad-74af5e2aceb0",
   "metadata": {},
   "outputs": [],
   "source": []
  },
  {
   "cell_type": "code",
   "execution_count": null,
   "id": "e27e4868-4a8a-47a7-a782-72a0f916df7f",
   "metadata": {},
   "outputs": [],
   "source": []
  },
  {
   "cell_type": "code",
   "execution_count": null,
   "id": "42d5d68b-b7a6-4d6f-bb4c-725310169b16",
   "metadata": {},
   "outputs": [],
   "source": []
  },
  {
   "cell_type": "code",
   "execution_count": null,
   "id": "7d16c748-052e-44e6-9d2a-662d69a32309",
   "metadata": {},
   "outputs": [],
   "source": []
  },
  {
   "cell_type": "code",
   "execution_count": null,
   "id": "76191c85-517f-4a50-9c68-54f4c4b6a42e",
   "metadata": {},
   "outputs": [],
   "source": []
  }
 ],
 "metadata": {
  "kernelspec": {
   "display_name": "Python 3 (ipykernel)",
   "language": "python",
   "name": "python3"
  },
  "language_info": {
   "codemirror_mode": {
    "name": "ipython",
    "version": 3
   },
   "file_extension": ".py",
   "mimetype": "text/x-python",
   "name": "python",
   "nbconvert_exporter": "python",
   "pygments_lexer": "ipython3",
   "version": "3.12.5"
  }
 },
 "nbformat": 4,
 "nbformat_minor": 5
}
